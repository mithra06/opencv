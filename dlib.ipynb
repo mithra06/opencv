{
 "cells": [
  {
   "cell_type": "code",
   "execution_count": 2,
   "metadata": {},
   "outputs": [],
   "source": [
    "import cv2\n",
    "import sys\n",
    "import numpy as np\n",
    "import dlib\n",
    "from imutils import face_utils\n",
    "import imutils\n",
    "detector=dlib.get_frontal_face_detector()\n",
    "predictor=dlib.shape_predictor('shape_predictor_68_face_landmarks.dat')\n",
    "\n",
    "def createBox(img,points,scale=5,masked=False,cropped=True):\n",
    "    if masked:\n",
    "        mask=np.zeros_like(img)\n",
    "        mask=cv2.fillPoly(mask,[points],(255,255,255))\n",
    "    \n",
    "        img=cv2.bitwise_and(img,mask)\n",
    "        #cv2.imshow('mask',img)\n",
    "    if cropped:\n",
    "        bbox=cv2.boundingRect(points)\n",
    "        x,y,w,h=bbox\n",
    "        imgcrop=img[y:y+h,x:x+w]\n",
    "        imgcrop=cv2.resize(imgcrop,(0,0),None,scale,scale)\n",
    "        return imgcrop\n",
    "    else:\n",
    "        return mask\n",
    "img=cv2.imread('Trump.jpg')\n",
    "img=cv2.resize(img,(0,0),None,0.5,0.5)\n",
    "imgorg=img.copy()\n",
    "gray=cv2.cvtColor(img,cv2.COLOR_BGR2GRAY)\n",
    "faces=detector(gray)\n",
    "for face in faces:\n",
    "    x1,y1=face.left(),face.top()\n",
    "    x2,y2=face.right(),face.bottom()\n",
    "    imgorg=cv2.rectangle(img,(x1,y1),(x2,y2),(0,255,0),3)\n",
    "    land=predictor(gray,face)\n",
    "    \n",
    "    \n",
    "    mypoints=[]\n",
    "    for n in range(68):\n",
    "        x=land.part(n).x\n",
    "        y=land.part(n).y\n",
    "        land1=face_utils.shape_to_np(land)\n",
    "        #mypoints=np.append(mypoints,land)\n",
    "        mypoints.append([x,y])\n",
    "        #cv2.circle(img,(x,y),5,(50,50,255),cv2.FILLED)\n",
    "        #cv2.putText(img,str(n),(x,y-25),cv2.FONT_HERSHEY_COMPLEX_SMALL,0.7,(0,255,0),1)\n",
    "        \n",
    "        #np.concatenate\n",
    "    mypoint=np.array(mypoints)\n",
    "    imgleft=createBox(img,mypoint[48:61],3,masked=True,cropped=False)\n",
    "    imgcolorlip=np.zeros_like(imgleft)\n",
    "    imgcolorlip[:]=0,0,255\n",
    "    imgcolorlip=cv2.bitwise_and(imgleft,imgcolorlip)\n",
    "    imgcolorlip=cv2.GaussianBlur(imgcolorlip,(7,7),10)\n",
    "    imgray=cv2.cvtColor(imgorg,cv2.COLOR_BGR2GRAY)\n",
    "    imgray=cv2.cvtColor(imgray,cv2.COLOR_GRAY2BGR)\n",
    "    imgcolorlip=cv2.addWeighted(imgray,1,imgcolorlip,0.4,0)\n",
    "    cv2.imshow('lipcolor',imgcolorlip)\n",
    "    cv2.imshow('masked',imgleft)\n",
    "    \n",
    "    #print(mypoint)\n",
    "cv2.imshow('img',imgorg)\n",
    "cv2.waitKey()\n",
    "cv2.destroyAllWindows()"
   ]
  },
  {
   "cell_type": "code",
   "execution_count": null,
   "metadata": {
    "scrolled": true
   },
   "outputs": [],
   "source": []
  },
  {
   "cell_type": "code",
   "execution_count": null,
   "metadata": {},
   "outputs": [],
   "source": []
  }
 ],
 "metadata": {
  "kernelspec": {
   "display_name": "myenv",
   "language": "python",
   "name": "myenv"
  },
  "language_info": {
   "codemirror_mode": {
    "name": "ipython",
    "version": 3
   },
   "file_extension": ".py",
   "mimetype": "text/x-python",
   "name": "python",
   "nbconvert_exporter": "python",
   "pygments_lexer": "ipython3",
   "version": "3.6.5"
  }
 },
 "nbformat": 4,
 "nbformat_minor": 2
}
