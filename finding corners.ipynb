{
 "cells": [
  {
   "cell_type": "code",
   "execution_count": 4,
   "metadata": {},
   "outputs": [],
   "source": [
    "img=cv2.imread('bridge.jpg')\n",
    "gray=cv2.cvtColor(img,cv2.COLOR_BGR2GRAY)\n",
    "cv2.imshow('image',img)\n",
    "cv2.waitKey()\n",
    "gray=np.float32(gray)\n",
    "harris=cv2.cornerHarris(gray,3,5,0.05)\n",
    "kernel=np.ones((1,1),np.uint8)\n",
    "har=cv2.dilate(harris,kernel,iterations=2)\n",
    "img[har>0.010*har.max()]=[255,27,17]\n",
    "cv2.imshow('harris',img)\n",
    "cv2.waitKey()\n",
    "cv2.destroyAllWindows()\n"
   ]
  },
  {
   "cell_type": "code",
   "execution_count": 5,
   "metadata": {},
   "outputs": [],
   "source": [
    "img=cv2.imread('bridge.jpg')\n",
    "gray=cv2.cvtColor(img,cv2.COLOR_BGR2GRAY)\n",
    "cv2.imshow('image',img)\n",
    "cv2.waitKey()\n",
    "corners=cv2.goodFeaturesToTrack(gray,50,0.01,5)\n",
    "for corner in corners:\n",
    "    x,y=corner[0]\n",
    "    x=int(x)\n",
    "    y=int(y)\n",
    "    cv2.rectangle(img,(x-5,y-5),(x+5,y+5),(0,255,0),2)\n",
    "cv2.imshow('goodfeature',img)\n",
    "cv2.waitKey()\n",
    "cv2.destroyAllWindows()\n"
   ]
  },
  {
   "cell_type": "code",
   "execution_count": 8,
   "metadata": {},
   "outputs": [],
   "source": [
    "import cv2\n",
    "import numpy as np\n",
    "face=cv2.CascadeClassifier('frontface.xml')\n",
    "img=cv2.imread('obama.jpg')\n",
    "gray=cv2.cvtColor(img,cv2.COLOR_BGR2GRAY)\n",
    "faces=face.detectMultiScale(gray,1.3,5)\n",
    "if faces is ():\n",
    "    print('no')\n",
    "for (x,y,w,h) in faces:\n",
    "    cv2.rectangle(img,(x,y),(x+w,y+h),(127,0,0),2)\n",
    "    cv2.imshow('face',img)\n",
    "    cv2.waitKey()\n",
    "cv2.destroyAllWindows()"
   ]
  },
  {
   "cell_type": "code",
   "execution_count": 9,
   "metadata": {},
   "outputs": [],
   "source": [
    "import cv2\n",
    "import numpy as np\n",
    "face=cv2.CascadeClassifier('frontface.xml')\n",
    "eye=cv2.CascadeClassifier('haarcascade_eye.xml')\n",
    "img=cv2.imread('Trump.jpg')\n",
    "gray=cv2.cvtColor(img,cv2.COLOR_BGR2GRAY)\n",
    "faces=face.detectMultiScale(gray,1.3,5)\n",
    "if faces is ():\n",
    "    print('no')\n",
    "for (x,y,w,h) in faces:\n",
    "    cv2.rectangle(img,(x,y),(x+w,y+h),(127,0,0),2)\n",
    "    cv2.imshow('face',img)\n",
    "    cv2.waitKey(0)\n",
    "    roi_gray=gray[y:y+h,x:x+w]\n",
    "    roi_color=img[y:y+h,x:x+w]\n",
    "    eyes=eye.detectMultiScale(roi_gray)\n",
    "    for (ex,ey,ew,eh) in eyes:\n",
    "        cv2.rectangle(roi_color,(ex,ey),(ex+ew,ey+eh),(0,255,0),2)\n",
    "        cv2.imshow('face',img)\n",
    "        cv2.waitKey(0)\n",
    "cv2.destroyAllWindows()"
   ]
  },
  {
   "cell_type": "code",
   "execution_count": 10,
   "metadata": {},
   "outputs": [],
   "source": [
    "face=cv2.CascadeClassifier('frontface.xml')\n",
    "img=cv2.imread('obama.jpg')\n",
    "gray=cv2.cvtColor(img,cv2.COLOR_BGR2GRAY)\n",
    "faces=face.detectMultiScale(gray,1.3,5)\n",
    "if faces is ():\n",
    "    print('no')\n",
    "for (x,y,w,h) in faces:\n",
    "    cv2.rectangle(img,(x,y),(x+w,y+h),(127,0,0),2)\n",
    "    cv2.imshow('face',img)\n",
    "    cv2.waitKey()\n",
    "cv2.destroyAllWindows()"
   ]
  },
  {
   "cell_type": "code",
   "execution_count": null,
   "metadata": {},
   "outputs": [],
   "source": []
  }
 ],
 "metadata": {
  "kernelspec": {
   "display_name": "Python 3",
   "language": "python",
   "name": "python3"
  },
  "language_info": {
   "codemirror_mode": {
    "name": "ipython",
    "version": 3
   },
   "file_extension": ".py",
   "mimetype": "text/x-python",
   "name": "python",
   "nbconvert_exporter": "python",
   "pygments_lexer": "ipython3",
   "version": "3.7.3"
  }
 },
 "nbformat": 4,
 "nbformat_minor": 2
}
