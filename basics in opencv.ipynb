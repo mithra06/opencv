{
 "cells": [
  {
   "cell_type": "code",
   "execution_count": 1,
   "metadata": {},
   "outputs": [],
   "source": [
    "import cv2\n",
    "import numpy as np\n",
    "img=cv2.imread(\"elephant.jpg\")\n",
    "cv2.imshow('ele',img)\n",
    "cv2.waitKey()\n",
    "rgb=cv2.cvtColor(img,cv2.COLOR_BGR2RGB)\n",
    "cv2.imshow('rgb',rgb)\n",
    "cv2.waitKey()\n",
    "gray=cv2.cvtColor(img,cv2.COLOR_BGR2GRAY)\n",
    "cv2.imshow('gray',gray)\n",
    "cv2.waitKey()\n",
    "cv2.destroyAllWindows()"
   ]
  },
  {
   "cell_type": "code",
   "execution_count": 2,
   "metadata": {},
   "outputs": [],
   "source": [
    "hsv=cv2.cvtColor(img,cv2.COLOR_BGR2HSV)\n",
    "cv2.imshow('hsv',hsv)\n",
    "cv2.waitKey()\n",
    "cv2.destroyAllWindows()"
   ]
  },
  {
   "cell_type": "code",
   "execution_count": 3,
   "metadata": {},
   "outputs": [],
   "source": [
    "img=cv2.imread(\"elephant.jpg\")\n",
    "cv2.imshow('ele',img)\n",
    "cv2.imshow('hue',img[:,:,0])\n",
    "cv2.imshow('sat',img[:,:,1])\n",
    "cv2.imshow('val',img[:,:,2])\n",
    "cv2.waitKey()\n",
    "cv2.destroyAllWindows()"
   ]
  },
  {
   "cell_type": "code",
   "execution_count": 7,
   "metadata": {},
   "outputs": [
    {
     "name": "stdout",
     "output_type": "stream",
     "text": [
      "255 255 241\n"
     ]
    }
   ],
   "source": [
    "b,g,r=img[0,0]\n",
    "print (b,g,r)"
   ]
  },
  {
   "cell_type": "code",
   "execution_count": 8,
   "metadata": {},
   "outputs": [
    {
     "data": {
      "text/plain": [
       "(519, 778, 3)"
      ]
     },
     "execution_count": 8,
     "metadata": {},
     "output_type": "execute_result"
    }
   ],
   "source": [
    "img.shape"
   ]
  },
  {
   "cell_type": "code",
   "execution_count": 4,
   "metadata": {},
   "outputs": [],
   "source": [
    "b,g,r=cv2.split(img)\n",
    "cv2.imshow('blue',b)\n",
    "cv2.imshow('green',g)\n",
    "cv2.imshow('red',r)\n",
    "merge=cv2.merge([b,g,r])\n",
    "cv2.imshow('merge',merge)\n",
    "add=cv2.merge([b+100,g,r])\n",
    "cv2.imshow('amp',add)\n",
    "cv2.waitKey()\n",
    "cv2.destroyAllWindows()"
   ]
  },
  {
   "cell_type": "code",
   "execution_count": 10,
   "metadata": {},
   "outputs": [
    {
     "data": {
      "text/plain": [
       "(519, 778)"
      ]
     },
     "execution_count": 10,
     "metadata": {},
     "output_type": "execute_result"
    }
   ],
   "source": [
    "img.shape[:2]"
   ]
  },
  {
   "cell_type": "code",
   "execution_count": 5,
   "metadata": {},
   "outputs": [],
   "source": [
    "zeros=np.zeros(img.shape[:2],dtype='uint8')\n",
    "cv2.imshow('blue',cv2.merge([b,zeros,zeros]))\n",
    "cv2.imshow('green',cv2.merge([zeros,g,zeros]))\n",
    "cv2.imshow('red',cv2.merge([zeros,zeros,r]))\n",
    "\n",
    "cv2.waitKey()\n",
    "cv2.destroyAllWindows()"
   ]
  },
  {
   "cell_type": "code",
   "execution_count": 13,
   "metadata": {},
   "outputs": [
    {
     "data": {
      "text/plain": [
       "<Figure size 640x480 with 1 Axes>"
      ]
     },
     "metadata": {},
     "output_type": "display_data"
    }
   ],
   "source": [
    "from matplotlib import pyplot as plt\n",
    "hist=cv2.calcHist([img],[0],None,[256],[0,256])\n",
    "plt.hist(img.ravel(),256,[0,256])\n",
    "plt.show()\n"
   ]
  },
  {
   "cell_type": "code",
   "execution_count": 14,
   "metadata": {},
   "outputs": [
    {
     "data": {
      "image/png": "[encoded data removed]",
      "text/plain": [
       "<Figure size 432x288 with 1 Axes>"
      ]
     },
     "metadata": {
      "needs_background": "light"
     },
     "output_type": "display_data"
    }
   ],
   "source": [
    "color=('b','g','r')\n",
    "for i,col in enumerate (color):\n",
    "    hist2=cv2.calcHist([img],[i],None,[256],[0,256])\n",
    "    plt.plot(hist2,color=col)\n",
    "plt.show()"
   ]
  },
  {
   "cell_type": "code",
   "execution_count": null,
   "metadata": {},
   "outputs": [],
   "source": [
    "line=cv2.line(img,(0,0),(250,250),(150,50,0),5)\n",
    "cv2.imshow('line',line)\n",
    "rect=cv2.rectangle(img,(100,100),(300,300),6)\n",
    "cv2.imshow('rect',rect)\n",
    "circle=cv2.circle(img,(130,100),20,-1)\n",
    "cv2.imshow('circle',circle)\n",
    "cv2.waitKey()\n",
    "cv2.destroyAllWindows()"
   ]
  },
  {
   "cell_type": "code",
   "execution_count": 4,
   "metadata": {},
   "outputs": [],
   "source": [
    "cv2.putText(img,'hiiiiii',(75,300),cv2.FONT_HERSHEY_COMPLEX,2,(100,170,0),3)\n",
    "cv2.imshow('hi',img)\n",
    "cv2.waitKey()\n",
    "cv2.destroyAllWindows()"
   ]
  },
  {
   "cell_type": "code",
   "execution_count": 7,
   "metadata": {},
   "outputs": [],
   "source": [
    "height,width =img.shape[:2]\n",
    "tx,ty=height/2, width/2\n",
    "t=np.float32([[1,0,tx],[0,1,ty]])\n",
    "aff=cv2.warpAffine(img,t,(height,width))\n",
    "cv2.imshow('affine',aff)\n",
    "cv2.waitKey()\n",
    "cv2.destroyAllWindows()"
   ]
  },
  {
   "cell_type": "code",
   "execution_count": 6,
   "metadata": {},
   "outputs": [],
   "source": [
    "height,width=img.shape[:2]\n",
    "rotate=cv2.getRotationMatrix2D((height/2,width/2),90,0.5)\n",
    "rot=cv2.warpAffine(img,rotate,(width,height))\n",
    "cv2.imshow('rotate',rot)\n",
    "cv2.waitKey()\n",
    "cv2.destroyAllWindows()"
   ]
  },
  {
   "cell_type": "code",
   "execution_count": 7,
   "metadata": {},
   "outputs": [],
   "source": [
    "trans=cv2.transpose(img)\n",
    "cv2.imshow('trans',trans)\n",
    "cv2.waitKey()\n",
    "cv2.destroyAllWindows()"
   ]
  },
  {
   "cell_type": "code",
   "execution_count": 8,
   "metadata": {},
   "outputs": [],
   "source": [
    "scale=cv2.resize(img,None,fx=0.75,fy=0.75)\n",
    "cv2.imshow('scale',scale)\n",
    "cubic=cv2.resize(img,None,fx=2,fy=2,interpolation=cv2.INTER_CUBIC)\n",
    "cv2.imshow('cubic',cubic)\n",
    "cv2.waitKey()\n",
    "cv2.destroyAllWindows()"
   ]
  },
  {
   "cell_type": "code",
   "execution_count": 9,
   "metadata": {},
   "outputs": [],
   "source": [
    "img=cv2.imread('obama.jpg')\n",
    "\n",
    "small=cv2.pyrDown(img)\n",
    "large=cv2.pyrUp(small)\n",
    "cv2.imshow('img',img)\n",
    "cv2.imshow('small',small)\n",
    "cv2.imshow('large',large)\n",
    "\n",
    "\n",
    "cv2.waitKey()\n",
    "cv2.destroyAllWindows()"
   ]
  },
  {
   "cell_type": "code",
   "execution_count": 10,
   "metadata": {},
   "outputs": [],
   "source": [
    "height,width=img.shape[:2]\n",
    "start_row,start_col=int(height*0.25) ,int(width*0.25)\n",
    "end_row,end_col=int(height*0.75),int(width*0.75)\n",
    "crop=img[start_row:end_row,start_col:end_col]\n",
    "cv2.imshow('crop',crop)\n",
    "cv2.imshow('img',img)\n",
    "\n",
    "\n",
    "cv2.waitKey()\n",
    "cv2.destroyAllWindows()"
   ]
  },
  {
   "cell_type": "code",
   "execution_count": 11,
   "metadata": {},
   "outputs": [],
   "source": [
    "m=np.ones(img.shape,dtype='uint8')* 75\n",
    "add=cv2.add(img,m)\n",
    "cv2.imshow('img',img)\n",
    "cv2.imshow('add',add)\n",
    "sub=cv2.subtract(img,m)\n",
    "\n",
    "cv2.imshow('sub',sub)\n",
    "\n",
    "\n",
    "\n",
    "\n",
    "cv2.waitKey()\n",
    "cv2.destroyAllWindows()"
   ]
  },
  {
   "cell_type": "code",
   "execution_count": null,
   "metadata": {},
   "outputs": [],
   "source": []
  }
 ],
 "metadata": {
  "kernelspec": {
   "display_name": "Python 3",
   "language": "python",
   "name": "python3"
  },
  "language_info": {
   "codemirror_mode": {
    "name": "ipython",
    "version": 3
   },
   "file_extension": ".py",
   "mimetype": "text/x-python",
   "name": "python",
   "nbconvert_exporter": "python",
   "pygments_lexer": "ipython3",
   "version": "3.7.3"
  }
 },
 "nbformat": 4,
 "nbformat_minor": 2
}
