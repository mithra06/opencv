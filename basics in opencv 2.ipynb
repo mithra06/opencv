{
 "cells": [
  {
   "cell_type": "code",
   "execution_count": 1,
   "metadata": {},
   "outputs": [],
   "source": [
    "import cv2\n",
    "import numpy as np\n",
    "\n",
    "square=np.zeros((300,300),np.uint8)\n",
    "cv2.imshow('square',square)\n",
    "cv2.waitKey(0)\n",
    "cv2.destroyAllWindows()"
   ]
  },
  {
   "cell_type": "code",
   "execution_count": 2,
   "metadata": {},
   "outputs": [],
   "source": [
    "rect=cv2.rectangle(square,(50,50),(250,250),255,-2)\n",
    "cv2.imshow('rectangle',rect)\n",
    "cv2.waitKey(0)\n",
    "cv2.destroyAllWindows()"
   ]
  },
  {
   "cell_type": "code",
   "execution_count": 3,
   "metadata": {},
   "outputs": [],
   "source": [
    "ellipse=np.zeros((300,300),np.uint8)\n",
    "cv2.ellipse(ellipse,(150,150),(150,150),30,0,180,255,-1)\n",
    "cv2.imshow('ellipse',ellipse)\n",
    "cv2.waitKey(0)\n",
    "cv2.destroyAllWindows()"
   ]
  },
  {
   "cell_type": "code",
   "execution_count": 4,
   "metadata": {},
   "outputs": [],
   "source": [
    "And=cv2.bitwise_and(rect,ellipse)\n",
    "cv2.imshow('and',And)\n",
    "Or=cv2.bitwise_or(rect,ellipse)\n",
    "cv2.imshow('or',Or)\n",
    "xor=cv2.bitwise_xor(rect,ellipse)\n",
    "cv2.imshow('xor',xor)\n",
    "Not=cv2.bitwise_not(rect)\n",
    "cv2.imshow('not',Not)\n",
    "cv2.waitKey(0)\n",
    "cv2.destroyAllWindows()"
   ]
  },
  {
   "cell_type": "code",
   "execution_count": 5,
   "metadata": {},
   "outputs": [],
   "source": [
    "img=cv2.imread('elephant.jpg')\n",
    "cv2.imshow('ele',img)\n",
    "kernel=np.ones((3,3),np.float32)/9\n",
    "blur=cv2.filter2D(img,-1,kernel)\n",
    "cv2.imshow('blur',blur)\n",
    "ker=np.ones((7,7),np.float32)/32\n",
    "blurred=cv2.filter2D(img,-1,ker)\n",
    "cv2.imshow('blurred',blurred)\n",
    "cv2.waitKey(0)\n",
    "cv2.destroyAllWindows()"
   ]
  },
  {
   "cell_type": "code",
   "execution_count": 6,
   "metadata": {},
   "outputs": [],
   "source": [
    "import cv2\n",
    "import numpy as np\n",
    "image=cv2.imread('elephant.jpg')\n",
    "cv2.imshow('ele',image)\n",
    "blur=cv2.blur(image,(3,3))\n",
    "cv2.imshow('blur1',blur)\n",
    "cv2.waitKey(0)\n",
    "gaus=cv2.GaussianBlur(image,(3,3),0)\n",
    "cv2.imshow('gaus',gaus)\n",
    "cv2.waitKey()\n",
    "med=cv2.medianBlur(image,5)\n",
    "cv2.imshow('median',med)\n",
    "cv2.waitKey()\n",
    "bil=cv2.bilateralFilter(image,9,150,150)\n",
    "cv2.imshow('bil',bil)\n",
    "\n",
    "cv2.waitKey(0)\n",
    "cv2.destroyAllWindows()"
   ]
  },
  {
   "cell_type": "code",
   "execution_count": 7,
   "metadata": {},
   "outputs": [],
   "source": [
    "image=cv2.imread('elephant.jpg')\n",
    "cv2.imshow('ele',image)\n",
    "cv2.waitKey()\n",
    "kernel=np.array([[-1,-1,-1],[-1,9,-1],[-1,-1,-1]])\n",
    "sharp=cv2.filter2D(image,-1,kernel)\n",
    "cv2.imshow('sharp',sharp)\n",
    "\n",
    "cv2.waitKey(0)\n",
    "cv2.destroyAllWindows()"
   ]
  },
  {
   "cell_type": "code",
   "execution_count": 8,
   "metadata": {},
   "outputs": [],
   "source": [
    "img=cv2.imread('obama.jpg',0)\n",
    "cv2.imshow('obama',img)\n",
    "cv2.waitKey()\n",
    "ret,bina=cv2.threshold(img,90,255,cv2.THRESH_BINARY)\n",
    "cv2.imshow('binary',bina)\n",
    "cv2.waitKey()\n",
    "ret,inv=cv2.threshold(img,90,255,cv2.THRESH_BINARY_INV)\n",
    "cv2.imshow('inv',inv)\n",
    "cv2.waitKey()\n",
    "ret,trun=cv2.threshold(img,90,255,cv2.THRESH_TRUNC)\n",
    "cv2.imshow('trunc',trun)\n",
    "cv2.waitKey()\n",
    "ret,to=cv2.threshold(img,90,255,cv2.THRESH_TOZERO)\n",
    "cv2.imshow('to',to)\n",
    "cv2.waitKey()\n",
    "ret,toinv=cv2.threshold(img,90,255,cv2.THRESH_TOZERO_INV)\n",
    "cv2.imshow('toinv',toinv)\n",
    "cv2.waitKey()\n",
    "cv2.destroyAllWindows()"
   ]
  },
  {
   "cell_type": "code",
   "execution_count": 9,
   "metadata": {},
   "outputs": [],
   "source": [
    "img=cv2.imread('obama.jpg')\n",
    "cv2.imshow('obama',img)\n",
    "cv2.waitKey()\n",
    "kernel=np.ones((3,3),np.uint8)\n",
    "erode=cv2.erode(img,kernel,iterations=1)\n",
    "cv2.imshow('erode',erode)\n",
    "cv2.waitKey()\n",
    "dilate=cv2.dilate(img,kernel,iterations=1)\n",
    "cv2.imshow('dilate',dilate)\n",
    "cv2.waitKey()\n",
    "opening=cv2.morphologyEx(img,cv2.MORPH_OPEN,kernel)\n",
    "cv2.imshow('open',opening)\n",
    "cv2.waitKey()\n",
    "cv2.destroyAllWindows()"
   ]
  },
  {
   "cell_type": "code",
   "execution_count": 10,
   "metadata": {},
   "outputs": [],
   "source": [
    "import cv2\n",
    "import numpy as np\n",
    "img=cv2.imread('obama.jpg',0)\n",
    "height,width=img.shape\n",
    "sobel_x=cv2.Sobel(img,cv2.CV_64F,0,1,ksize=5)\n",
    "cv2.waitKey()\n",
    "sobel_y=cv2.Sobel(img,cv2.CV_64F,1,0,ksize=5)\n",
    "cv2.waitKey()\n",
    "cv2.imshow('original',img)\n",
    "cv2.waitKey()\n",
    "cv2.imshow('sobel_x',sobel_x)\n",
    "cv2.imshow('sobel_y',sobel_y)\n",
    "cv2.waitKey()\n",
    "lap=cv2.Laplacian(img,cv2.CV_64F)\n",
    "cv2.imshow('lap',lap)\n",
    "cv2.waitKey()\n",
    "can=cv2.Canny(img,20,200)\n",
    "cv2.imshow('canny',can)\n",
    "cv2.waitKey()\n",
    "cv2.destroyAllWindows()"
   ]
  },
  {
   "cell_type": "code",
   "execution_count": 18,
   "metadata": {},
   "outputs": [],
   "source": [
    "def sketch(image):\n",
    "    gray=cv2.cvtColor(image,cv2.COLOR_BGR2GRAY)\n",
    "    blur=cv2.GaussianBlur(gray,(5,5),0)\n",
    "    edge=cv2.Canny(blur,10,70)\n",
    "    ret,thresh=cv2.threshold(edge,70,255,cv2.THRESH_BINARY_INV)\n",
    "    return thresh\n",
    "cap=cv2.VideoCapture(0)\n",
    "\n",
    "ret,frame=cap.read()\n",
    "cv2.imshow('live',sketch(frame))\n",
    "cv2.waitKey()\n",
    "cap.release()\n",
    "cv2.destroyAllWindows()"
   ]
  },
  {
   "cell_type": "code",
   "execution_count": null,
   "metadata": {},
   "outputs": [],
   "source": []
  }
 ],
 "metadata": {
  "kernelspec": {
   "display_name": "Python 3",
   "language": "python",
   "name": "python3"
  },
  "language_info": {
   "codemirror_mode": {
    "name": "ipython",
    "version": 3
   },
   "file_extension": ".py",
   "mimetype": "text/x-python",
   "name": "python",
   "nbconvert_exporter": "python",
   "pygments_lexer": "ipython3",
   "version": "3.7.3"
  }
 },
 "nbformat": 4,
 "nbformat_minor": 2
}
