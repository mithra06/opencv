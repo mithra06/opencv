{
 "cells": [
  {
   "cell_type": "code",
   "execution_count": 4,
   "metadata": {},
   "outputs": [
    {
     "name": "stdout",
     "output_type": "stream",
     "text": [
      "1.163265306122449\n",
      "1.1454545454545455\n",
      "1.9052631578947368\n",
      "1.8037383177570094\n",
      "2.375266524520256\n"
     ]
    }
   ],
   "source": [
    "img=cv2.imread('shape.jpg')\n",
    "gray=cv2.cvtColor(img,cv2.COLOR_BGR2GRAY)\n",
    "cv2.imshow('gray',gray)\n",
    "cv2.waitKey()\n",
    "ret,thresh=cv2.threshold(gray,127,255,cv2.THRESH_BINARY)\n",
    "contours,hier=cv2.findContours(thresh.copy(),cv2.RETR_LIST,cv2.CHAIN_APPROX_NONE)\n",
    "for cnt in contours:\n",
    "    approx=cv2.approxPolyDP(cnt, 0.01*cv2.arcLength(cnt,True),True)\n",
    "    M=cv2.moments(cnt)\n",
    "    cx=int(M['m10'] / M['m00'])\n",
    "    cy=int(M['m01'] / M['m00'])\n",
    "    if len(approx)==3:\n",
    "        shape_name='triangle'\n",
    "        cv2.drawContours(img,[cnt],0,(0,255,0),-1)\n",
    "        cv2.putText(img,shape_name,(cx-50,cy),cv2.FONT_HERSHEY_SIMPLEX,1,(0,0,0),1)\n",
    "    elif len(approx)==4:\n",
    "        x,y,w,h=cv2.boundingRect(cnt)\n",
    "        \n",
    "        aspectRatio=float(w)/h\n",
    "        print(aspectRatio)\n",
    "        if aspectRatio >=0.95 and aspectRatio <=1.20:\n",
    "            shape_name='square'\n",
    "            cv2.drawContours(img,[cnt],0,(0,255,0),-1)\n",
    "            cv2.putText(img,shape_name,(cx-50,cy),cv2.FONT_HERSHEY_SIMPLEX,1,(0,0,0),1)\n",
    "        else:\n",
    "            shape_name='rectangle'\n",
    "            cv2.drawContours(img,[cnt],0,(0,255,0),-1)\n",
    "            cv2.putText(img,shape_name,(cx-50,cy),cv2.FONT_HERSHEY_SIMPLEX,1,(0,0,0),1)\n",
    "    elif len(approx)==5:\n",
    "        shape_name='pentagon'\n",
    "        cv2.drawContours(img,[cnt],0,(0,255,0),-1)\n",
    "        cv2.putText(img,shape_name,(cx-50,cy),cv2.FONT_HERSHEY_SIMPLEX,1,(0,0,0),1)\n",
    "    elif len(approx)==10:\n",
    "        shape_name='star'\n",
    "        cv2.drawContours(img,[cnt],0,(0,255,0),-1)\n",
    "        cv2.putText(img,shape_name,(cx-50,cy),cv2.FONT_HERSHEY_SIMPLEX,1,(0,0,0),1)\n",
    "    else:\n",
    "        shape_name='circle'\n",
    "        cv2.drawContours(img,[cnt],0,(0,255,0),-1)\n",
    "        cv2.putText(img,shape_name,(cx-50,cy),cv2.FONT_HERSHEY_SIMPLEX,1,(0,0,0),1)\n",
    "    cv2.imshow('identify',img)\n",
    "    cv2.waitKey()\n",
    "cv2.destroyAllWindows()"
   ]
  },
  {
   "cell_type": "code",
   "execution_count": null,
   "metadata": {},
   "outputs": [],
   "source": []
  },
  {
   "cell_type": "code",
   "execution_count": null,
   "metadata": {},
   "outputs": [],
   "source": []
  }
 ],
 "metadata": {
  "kernelspec": {
   "display_name": "Python 3",
   "language": "python",
   "name": "python3"
  },
  "language_info": {
   "codemirror_mode": {
    "name": "ipython",
    "version": 3
   },
   "file_extension": ".py",
   "mimetype": "text/x-python",
   "name": "python",
   "nbconvert_exporter": "python",
   "pygments_lexer": "ipython3",
   "version": "3.7.3"
  }
 },
 "nbformat": 4,
 "nbformat_minor": 2
}
