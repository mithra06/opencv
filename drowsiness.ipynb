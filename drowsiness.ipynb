{
 "cells": [
  {
   "cell_type": "code",
   "execution_count": 1,
   "metadata": {},
   "outputs": [],
   "source": [
    "import cv2\n",
    "import numpy as np\n",
    "import dlib\n",
    "from scipy.spatial import distance"
   ]
  },
  {
   "cell_type": "code",
   "execution_count": 3,
   "metadata": {},
   "outputs": [
    {
     "name": "stdout",
     "output_type": "stream",
     "text": [
      "drowsy\n",
      "0\n"
     ]
    }
   ],
   "source": [
    "    def drowsy(eye):\n",
    "        a=distance.euclidean(eye[1],eye[5])\n",
    "        b=distance.euclidean(eye[2],eye[4])\n",
    "        c=distance.euclidean(eye[0],eye[3])\n",
    "        aspect=(a+b)/(2*c)\n",
    "        return aspect\n",
    "\n",
    "#cap=cv2.VideoCapture(0)\n",
    "    frame=cv2.imread('baby.jpg')\n",
    "    detector=dlib.get_frontal_face_detector()\n",
    "    predictor=dlib.shape_predictor('shape_predictor_68_face_landmarks.dat')\n",
    "\n",
    "\n",
    "    gray=cv2.cvtColor(frame,cv2.COLOR_BGR2GRAY)\n",
    "    faces=detector(gray)\n",
    "    for face in faces:\n",
    "        land=predictor(gray,face)\n",
    "        left=[]\n",
    "        right=[]\n",
    "        for n in range(36,42):\n",
    "            x=land.part(n).x\n",
    "            y=land.part(n).y\n",
    "            left.append((x,y))\n",
    "            next_point=n+1\n",
    "            if n==41:\n",
    "                next_point=36\n",
    "            x2=land.part(next_point).x\n",
    "            y2=land.part(next_point).y\n",
    "            cv2.line(frame,(x,y),(x2,y2),(0,255,0),2)\n",
    "        for n in range(42,48):\n",
    "            x=land.part(n).x\n",
    "            y=land.part(n).y\n",
    "            right.append((x,y))\n",
    "            next_point=n+1\n",
    "            if n==47:\n",
    "                next_point=42\n",
    "            x2=land.part(next_point).x\n",
    "            y2=land.part(next_point).y\n",
    "            cv2.line(frame,(x,y),(x2,y2),(0,255,0),2)\n",
    "        leftear=drowsy(left)\n",
    "        rightear=drowsy(right)\n",
    "        EAR=(leftear+rightear)/2\n",
    "        EAR=round(EAR)\n",
    "        if EAR<0.26:\n",
    "            cv2.putText(frame,'drowsy',(20,100),cv2.FONT_HERSHEY_SIMPLEX,3,(255,0,0),2)\n",
    "            cv2.putText(frame,'are u sleepy',(20,400),cv2.FONT_HERSHEY_SIMPLEX,3,(255,0,0),2)\n",
    "            print('drowsy')\n",
    "        print(EAR)\n",
    "    cv2.imshow('are u sleepy',frame)\n",
    "    cv2.waitKey()\n",
    "#cap.release()\n",
    "cv2.destroyAllWindows()"
   ]
  },
  {
   "cell_type": "code",
   "execution_count": null,
   "metadata": {},
   "outputs": [],
   "source": []
  },
  {
   "cell_type": "code",
   "execution_count": null,
   "metadata": {},
   "outputs": [],
   "source": [
    "\n",
    "\n",
    "\n",
    "  "
   ]
  },
  {
   "cell_type": "code",
   "execution_count": null,
   "metadata": {},
   "outputs": [],
   "source": []
  }
 ],
 "metadata": {
  "kernelspec": {
   "display_name": "myenv",
   "language": "python",
   "name": "myenv"
  },
  "language_info": {
   "codemirror_mode": {
    "name": "ipython",
    "version": 3
   },
   "file_extension": ".py",
   "mimetype": "text/x-python",
   "name": "python",
   "nbconvert_exporter": "python",
   "pygments_lexer": "ipython3",
   "version": "3.6.5"
  }
 },
 "nbformat": 4,
 "nbformat_minor": 2
}
